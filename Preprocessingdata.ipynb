{
 "cells": [
  {
   "cell_type": "code",
   "execution_count": 1,
   "id": "d943444e",
   "metadata": {},
   "outputs": [
    {
     "name": "stdout",
     "output_type": "stream",
     "text": [
      "Requirement already satisfied: opendatasets in c:\\users\\m\\anaconda3\\lib\\site-packages (0.1.22)\n",
      "Requirement already satisfied: tqdm in c:\\users\\m\\anaconda3\\lib\\site-packages (from opendatasets) (4.62.3)\n",
      "Requirement already satisfied: kaggle in c:\\users\\m\\anaconda3\\lib\\site-packages (from opendatasets) (1.5.12)\n",
      "Requirement already satisfied: click in c:\\users\\m\\anaconda3\\lib\\site-packages (from opendatasets) (8.0.3)\n",
      "Requirement already satisfied: colorama in c:\\users\\m\\anaconda3\\lib\\site-packages (from click->opendatasets) (0.4.4)\n",
      "Requirement already satisfied: certifi in c:\\users\\m\\anaconda3\\lib\\site-packages (from kaggle->opendatasets) (2022.5.18.1)\n",
      "Requirement already satisfied: requests in c:\\users\\m\\anaconda3\\lib\\site-packages (from kaggle->opendatasets) (2.26.0)\n",
      "Requirement already satisfied: python-slugify in c:\\users\\m\\anaconda3\\lib\\site-packages (from kaggle->opendatasets) (5.0.2)\n",
      "Requirement already satisfied: urllib3 in c:\\users\\m\\anaconda3\\lib\\site-packages (from kaggle->opendatasets) (1.26.7)\n",
      "Requirement already satisfied: six>=1.10 in c:\\users\\m\\anaconda3\\lib\\site-packages (from kaggle->opendatasets) (1.16.0)\n",
      "Requirement already satisfied: python-dateutil in c:\\users\\m\\anaconda3\\lib\\site-packages (from kaggle->opendatasets) (2.8.2)\n",
      "Requirement already satisfied: text-unidecode>=1.3 in c:\\users\\m\\anaconda3\\lib\\site-packages (from python-slugify->kaggle->opendatasets) (1.3)\n",
      "Requirement already satisfied: idna<4,>=2.5 in c:\\users\\m\\anaconda3\\lib\\site-packages (from requests->kaggle->opendatasets) (3.2)\n",
      "Requirement already satisfied: charset-normalizer~=2.0.0 in c:\\users\\m\\anaconda3\\lib\\site-packages (from requests->kaggle->opendatasets) (2.0.4)\n"
     ]
    },
    {
     "name": "stderr",
     "output_type": "stream",
     "text": [
      "WARNING: You are using pip version 22.0.4; however, version 22.3.1 is available.\n",
      "You should consider upgrading via the 'C:\\Users\\M\\anaconda3\\python.exe -m pip install --upgrade pip' command.\n"
     ]
    }
   ],
   "source": [
    "!pip install opendatasets"
   ]
  },
  {
   "cell_type": "code",
   "execution_count": 2,
   "id": "1c92881e",
   "metadata": {},
   "outputs": [],
   "source": [
    "import opendatasets as od"
   ]
  },
  {
   "cell_type": "code",
   "execution_count": 3,
   "id": "ed856326",
   "metadata": {},
   "outputs": [],
   "source": [
    "from sklearn.model_selection import train_test_split\n",
    "from keras.utils import to_categorical #converts a class of integers to binary class matrix\n",
    "import matplotlib.pyplot as plt \n",
    "from scipy.fft import fft #convert to FFT(Fast Fourier Transform)signals\n",
    "from librosa import display \n",
    "import pandas as pd\n",
    "import numpy as np\n",
    "import pickle \n",
    "import librosa #read audio files  and convert them to spectrogram\n",
    "import os\n",
    "import warnings #to alert the user of some condition in a program\n",
    "\n",
    "\n",
    "warnings.filterwarnings('ignore')"
   ]
  },
  {
   "cell_type": "code",
   "execution_count": 4,
   "id": "c9ea1a7b",
   "metadata": {},
   "outputs": [],
   "source": [
    "# overlap 50% to reduce the chances of overfitting\n",
    "def splitsongs(X,y,window =0.05,overlap=0.5):\n",
    "  #empty lists to hold our results\n",
    "  temp_X=[]\n",
    "  temp_y=[]\n",
    "  #get input song array size\n",
    "  xshape=X.shape[0]\n",
    "  chunk=int(xshape*window)\n",
    "  offset=int(chunk*(1-overlap))\n",
    "  #split the song and creat new ones on window \n",
    "  spsong=[X[i:i+chunk]for i in range(0,xshape,offset)]\n",
    "  for s in spsong:\n",
    "    if s.shape[0] != chunk:\n",
    "      continue\n",
    "    temp_X.append(s)\n",
    "    temp_y.append(y)\n",
    "  return np.array(temp_X),np.array(temp_y)"
   ]
  },
  {
   "cell_type": "code",
   "execution_count": 5,
   "id": "15120718",
   "metadata": {},
   "outputs": [],
   "source": [
    "samp_rate=0\n",
    "def read_data(path):\n",
    "  path=\"GTZAN/Data/genres_original/\"\n",
    "  genres = os.listdir(path)\n",
    "  genres_labels = {}\n",
    "  for index,genre in enumerate(genres):\n",
    "    genres_labels[genre] = index\n",
    "  features=[]\n",
    "  labels=[]\n",
    "  for genre in genres:\n",
    "    print(\"Satrted {} Genre audio file reading!\".format(genre))\n",
    "    audio_files = os.listdir(path+genre)\n",
    "    for audio_file in audio_files:\n",
    "      audio_file_path = path + genre + \"/\" +audio_file\n",
    "      try:\n",
    "        audio_time_series,sampling_rate = librosa.load(audio_file_path)\n",
    "        samp_rate = sampling_rate\n",
    "        X,y = splitsongs(audio_time_series,genres_labels[genre],window=0.10) #window size = 0.10 to split into 3 sec \n",
    "        features.extend(X)\n",
    "        labels.extend(y)\n",
    "      except Exception:\n",
    "        print('{} is an empty file!'.format(audio_file_path))\n",
    "    \n",
    "    print(\"{} Genre audio file reading completed!\".format(genre))\n",
    "  \n",
    "  return np.array(features),np.array(labels)"
   ]
  },
  {
   "cell_type": "code",
   "execution_count": 6,
   "id": "fb623f69",
   "metadata": {},
   "outputs": [],
   "source": [
    "#convert each 3 sec clip tp stft \n",
    "def convert_audio_to_stft(features):\n",
    "\n",
    "  converted_files=[]\n",
    "  for feature in features:\n",
    "    fft_result1 = np.abs(fft(feature,32700)) #scipy library to convert audio into fft form of length 32700\n",
    "    stft_trans2 = np.abs(librosa.stft(fft_result1,1024))#librosa library stft function to convert fft to stft by length 1024\n",
    "    converted_files.append(stft_trans2.reshape(128, 513))#return array os shape (128,5113)\n",
    "  \n",
    "  return np.array(converted_files)\n"
   ]
  },
  {
   "cell_type": "code",
   "execution_count": 7,
   "id": "25df721b",
   "metadata": {},
   "outputs": [
    {
     "name": "stdout",
     "output_type": "stream",
     "text": [
      "Satrted blues Genre audio file reading!\n",
      "blues Genre audio file reading completed!\n",
      "Satrted classical Genre audio file reading!\n",
      "classical Genre audio file reading completed!\n",
      "Satrted country Genre audio file reading!\n",
      "country Genre audio file reading completed!\n",
      "Satrted disco Genre audio file reading!\n",
      "disco Genre audio file reading completed!\n",
      "Satrted hiphop Genre audio file reading!\n",
      "hiphop Genre audio file reading completed!\n",
      "Satrted jazz Genre audio file reading!\n",
      "GTZAN/Data/genres_original/jazz/jazz.00054.wav is an empty file!\n",
      "jazz Genre audio file reading completed!\n",
      "Satrted metal Genre audio file reading!\n",
      "metal Genre audio file reading completed!\n",
      "Satrted pop Genre audio file reading!\n",
      "pop Genre audio file reading completed!\n",
      "Satrted reggae Genre audio file reading!\n",
      "reggae Genre audio file reading completed!\n",
      "Satrted rock Genre audio file reading!\n",
      "rock Genre audio file reading completed!\n"
     ]
    }
   ],
   "source": [
    "path=\"./GTZAN/genres_original/\"\n",
    "features,labels = read_data(path)"
   ]
  },
  {
   "cell_type": "code",
   "execution_count": 9,
   "id": "923791ce",
   "metadata": {},
   "outputs": [
    {
     "ename": "AttributeError",
     "evalue": "module 'librosa.display' has no attribute 'waveplot'",
     "output_type": "error",
     "traceback": [
      "\u001b[1;31m---------------------------------------------------------------------------\u001b[0m",
      "\u001b[1;31mAttributeError\u001b[0m                            Traceback (most recent call last)",
      "\u001b[1;32m~\\AppData\\Local\\Temp/ipykernel_29052/3231861647.py\u001b[0m in \u001b[0;36m<module>\u001b[1;34m\u001b[0m\n\u001b[0;32m      1\u001b[0m \u001b[0mplt\u001b[0m\u001b[1;33m.\u001b[0m\u001b[0mfigure\u001b[0m\u001b[1;33m(\u001b[0m\u001b[1;33m)\u001b[0m\u001b[1;33m\u001b[0m\u001b[1;33m\u001b[0m\u001b[0m\n\u001b[1;32m----> 2\u001b[1;33m \u001b[0mdisplay\u001b[0m\u001b[1;33m.\u001b[0m\u001b[0mwaveplot\u001b[0m\u001b[1;33m(\u001b[0m\u001b[0my\u001b[0m \u001b[1;33m=\u001b[0m \u001b[0mfeatures\u001b[0m\u001b[1;33m[\u001b[0m\u001b[1;36m0\u001b[0m\u001b[1;33m]\u001b[0m\u001b[1;33m,\u001b[0m \u001b[0msr\u001b[0m \u001b[1;33m=\u001b[0m\u001b[1;36m22050\u001b[0m\u001b[1;33m)\u001b[0m\u001b[1;33m\u001b[0m\u001b[1;33m\u001b[0m\u001b[0m\n\u001b[0m\u001b[0;32m      3\u001b[0m \u001b[0mplt\u001b[0m\u001b[1;33m.\u001b[0m\u001b[0mxlabel\u001b[0m\u001b[1;33m(\u001b[0m\u001b[1;34m\"Time in seconds\"\u001b[0m\u001b[1;33m)\u001b[0m\u001b[1;33m\u001b[0m\u001b[1;33m\u001b[0m\u001b[0m\n\u001b[0;32m      4\u001b[0m \u001b[0mplt\u001b[0m\u001b[1;33m.\u001b[0m\u001b[0mylabel\u001b[0m\u001b[1;33m(\u001b[0m\u001b[1;34m\"Amplitiude\"\u001b[0m\u001b[1;33m)\u001b[0m\u001b[1;33m\u001b[0m\u001b[1;33m\u001b[0m\u001b[0m\n\u001b[0;32m      5\u001b[0m \u001b[0mplt\u001b[0m\u001b[1;33m.\u001b[0m\u001b[0mshow\u001b[0m\u001b[1;33m(\u001b[0m\u001b[1;33m)\u001b[0m\u001b[1;33m\u001b[0m\u001b[1;33m\u001b[0m\u001b[0m\n",
      "\u001b[1;31mAttributeError\u001b[0m: module 'librosa.display' has no attribute 'waveplot'"
     ]
    },
    {
     "data": {
      "text/plain": [
       "<Figure size 432x288 with 0 Axes>"
      ]
     },
     "metadata": {},
     "output_type": "display_data"
    }
   ],
   "source": [
    "plt.figure()\n",
    "display.waveplot(y = features[0], sr =22050)\n",
    "plt.xlabel(\"Time in seconds\")\n",
    "plt.ylabel(\"Amplitiude\")\n",
    "plt.show()"
   ]
  },
  {
   "cell_type": "code",
   "execution_count": null,
   "id": "b0a79edb",
   "metadata": {},
   "outputs": [],
   "source": [
    "#80% training , 10% testing , 10% validation sets\n",
    "X_train , X_test , y_train , y_test = train_test_split(features,labels,test_size=0.1,random_state=42)\n",
    "X_train , X_val , y_train , y_val =train_test_split(X_train,y_train,test_size=0.1,random_state=42)"
   ]
  },
  {
   "cell_type": "code",
   "execution_count": null,
   "id": "4628ba4a",
   "metadata": {},
   "outputs": [],
   "source": [
    "#convert them into stft form\n",
    "X_train = convert_audio_to_stft(X_train)\n",
    "X_val = convert_audio_to_stft(X_val)\n",
    "X_test = convert_audio_to_stft(X_test)"
   ]
  },
  {
   "cell_type": "code",
   "execution_count": null,
   "id": "b8b58404",
   "metadata": {},
   "outputs": [],
   "source": [
    "fig, ax = plt.subplots()\n",
    "img = librosa.display.specshow(librosa.amplitude_to_db(X_train[0], ref=np.max), y_axis='log', x_axis=\"time\", ax=ax)\n",
    "ax.set_title(\"power spectrogram\")\n",
    "fig.colorbar(img, ax=ax, format=\"%+2.0f dB\")"
   ]
  },
  {
   "cell_type": "code",
   "execution_count": null,
   "id": "4703da9a",
   "metadata": {},
   "outputs": [],
   "source": [
    "X_train = X_train.reshape(-1, 128, 513, 1)\n",
    "X_val = X_val.reshape(-1, 128, 513, 1)\n",
    "X_test = X_test.reshape(-1, 128, 513, 1)"
   ]
  },
  {
   "cell_type": "code",
   "execution_count": null,
   "id": "286397c2",
   "metadata": {},
   "outputs": [],
   "source": [
    "y_train = to_categorical(y_train)\n",
    "y_val = to_categorical(y_val)\n",
    "y_test = to_categorical(y_test)"
   ]
  },
  {
   "cell_type": "code",
   "execution_count": null,
   "id": "b569ae8c",
   "metadata": {},
   "outputs": [],
   "source": [
    "with open('processed_data/X_train.pickle', 'wb') as f:\n",
    "  pickle.dump(X_train, f)\n",
    "\n",
    "with open('processed_data/X_valid.pickle', 'wb') as f:\n",
    "  pickle.dump(X_val, f)\n",
    "\n",
    "with open('processed_data/X_test.pickle', 'wb') as f:\n",
    "  pickle.dump(X_test, f)\n"
   ]
  },
  {
   "cell_type": "code",
   "execution_count": null,
   "id": "ac0654b2",
   "metadata": {},
   "outputs": [],
   "source": [
    "with open('processed_data/y_train.pickle', 'wb') as f:\n",
    "  pickle.dump(y_train, f)\n",
    "\n",
    "with open('processed_data/y_valid.pickle', 'wb') as f:\n",
    "  pickle.dump(y_val, f)\n",
    "\n",
    "with open('processed_data/y_test.pickle', 'wb') as f:\n",
    "  pickle.dump(y_test, f)"
   ]
  }
 ],
 "metadata": {
  "kernelspec": {
   "display_name": "Python 3 (ipykernel)",
   "language": "python",
   "name": "python3"
  },
  "language_info": {
   "codemirror_mode": {
    "name": "ipython",
    "version": 3
   },
   "file_extension": ".py",
   "mimetype": "text/x-python",
   "name": "python",
   "nbconvert_exporter": "python",
   "pygments_lexer": "ipython3",
   "version": "3.9.7"
  }
 },
 "nbformat": 4,
 "nbformat_minor": 5
}
